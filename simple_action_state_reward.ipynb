{
  "nbformat": 4,
  "nbformat_minor": 0,
  "metadata": {
    "kernelspec": {
      "display_name": "Python 3",
      "language": "python",
      "name": "python3"
    },
    "language_info": {
      "codemirror_mode": {
        "name": "ipython",
        "version": 3
      },
      "file_extension": ".py",
      "mimetype": "text/x-python",
      "name": "python",
      "nbconvert_exporter": "python",
      "pygments_lexer": "ipython3",
      "version": "3.7.4"
    },
    "colab": {
      "name": "simple_action_state_reward.ipynb",
      "provenance": [],
      "include_colab_link": true
    }
  },
  "cells": [
    {
      "cell_type": "markdown",
      "metadata": {
        "id": "view-in-github",
        "colab_type": "text"
      },
      "source": [
        "<a href=\"https://colab.research.google.com/github/spursbyte/rl_implementation/blob/main/simple_action_state_reward.ipynb\" target=\"_parent\"><img src=\"https://colab.research.google.com/assets/colab-badge.svg\" alt=\"Open In Colab\"/></a>"
      ]
    },
    {
      "cell_type": "code",
      "metadata": {
        "id": "lsXztsaN2kl8"
      },
      "source": [
        "from typing import Tuple"
      ],
      "execution_count": 1,
      "outputs": []
    },
    {
      "cell_type": "code",
      "metadata": {
        "id": "UCEHgjx92kl_"
      },
      "source": [
        "class Environment:\n",
        "    def __init__(self):\n",
        "        \"\"\"\n",
        "        Constructor of the Environment class.\n",
        "        \"\"\"\n",
        "        self._initial_state = 1\n",
        "        self._allowed_actions = [0, 1]  # 0: A, 1: B\n",
        "        self._states = [1, 2, 3]\n",
        "        self._current_state = self._initial_state\n",
        "\n",
        "    def step(self, action: int) -> Tuple[int, int]:\n",
        "        \"\"\"\n",
        "        Step function: compute the one-step dynamic from the given action.\n",
        "        \n",
        "        Args:\n",
        "            action (int): the action taken by the agent.\n",
        "        \n",
        "        Returns:\n",
        "            The tuple current_state, reward.\n",
        "        \"\"\"\n",
        "\n",
        "        # check if the action is allowed\n",
        "        if action not in self._allowed_actions:\n",
        "            raise ValueError(\"Action is not allowed\")\n",
        "\n",
        "        reward = 0\n",
        "        if action == 0 and self._current_state == 1:\n",
        "            self._current_state = 2\n",
        "            reward = 1\n",
        "        elif action == 1 and self._current_state == 1:\n",
        "            self._current_state = 3\n",
        "            reward = 10\n",
        "        elif action == 0 and self._current_state == 2:\n",
        "            self._current_state = 1\n",
        "            reward = 0\n",
        "        elif action == 1 and self._current_state == 2:\n",
        "            self._current_state = 3\n",
        "            reward = 1\n",
        "        elif action == 0 and self._current_state == 3:\n",
        "            self._current_state = 2\n",
        "            reward = 0\n",
        "        elif action == 1 and self._current_state == 3:\n",
        "            self._current_state = 3\n",
        "            reward = 10\n",
        "\n",
        "        return self._current_state, reward\n",
        "\n",
        "    def reset(self) -> int:\n",
        "        \"\"\"\n",
        "        Reset the environment starting from the initial state.\n",
        "        \n",
        "        Returns:\n",
        "            The environment state after reset (initial state).\n",
        "        \"\"\"\n",
        "        self._current_state = self._initial_state\n",
        "        return self._current_state"
      ],
      "execution_count": 2,
      "outputs": []
    },
    {
      "cell_type": "code",
      "metadata": {
        "colab": {
          "base_uri": "https://localhost:8080/"
        },
        "id": "ntoXnVf_2kmB",
        "outputId": "b241e378-4a0a-4c4d-96fb-d8b66721d37b"
      },
      "source": [
        "env = Environment()\n",
        "state = env.reset()\n",
        "\n",
        "actions = [0, 0, 1, 1, 0, 1]\n",
        "\n",
        "print(f\"Initial state is {state}\")\n",
        "\n",
        "for action in actions:\n",
        "    next_state, reward = env.step(action)\n",
        "    print(f\"From state {state} to state {next_state} with action {action}, reward: {reward}\")\n",
        "    state = next_state"
      ],
      "execution_count": 3,
      "outputs": [
        {
          "output_type": "stream",
          "text": [
            "Initial state is 1\n",
            "From state 1 to state 2 with action 0, reward: 1\n",
            "From state 2 to state 1 with action 0, reward: 0\n",
            "From state 1 to state 3 with action 1, reward: 10\n",
            "From state 3 to state 3 with action 1, reward: 10\n",
            "From state 3 to state 2 with action 0, reward: 0\n",
            "From state 2 to state 3 with action 1, reward: 1\n"
          ],
          "name": "stdout"
        }
      ]
    }
  ]
}